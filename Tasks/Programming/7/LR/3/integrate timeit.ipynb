{
 "cells": [
  {
   "cell_type": "markdown",
   "id": "17d516b2",
   "metadata": {},
   "source": [
    "integrate и integrate_async (ЛР 1 и 2)"
   ]
  },
  {
   "cell_type": "code",
   "execution_count": 15,
   "id": "7d7bd24b",
   "metadata": {},
   "outputs": [],
   "source": [
    "def integrate(f, a: float, b: float, *, n_iter: int = 1000):\n",
    "    if b == a:\n",
    "        return 0\n",
    "\n",
    "    h = (b-a)/float(n_iter)\n",
    "    z = 0\n",
    "    x = a + h\n",
    "\n",
    "    while x <= b - h:\n",
    "        z = z + f(x)\n",
    "        x = x + h\n",
    "\n",
    "    y = (f(a)+ f(b)) /2\n",
    "    z = h*(z+y)\n",
    "\n",
    "    return round(z, 8)"
   ]
  },
  {
   "cell_type": "code",
   "execution_count": 16,
   "id": "b67563e7",
   "metadata": {},
   "outputs": [
    {
     "name": "stdout",
     "output_type": "stream",
     "text": [
      "1.32 ms ± 210 µs per loop (mean ± std. dev. of 10 runs, 100 loops each)\n",
      "11.4 ms ± 368 µs per loop (mean ± std. dev. of 10 runs, 100 loops each)\n",
      "115 ms ± 3.95 ms per loop (mean ± std. dev. of 10 runs, 100 loops each)\n"
     ]
    }
   ],
   "source": [
    "import math\n",
    "\n",
    "%timeit -n100 -r10 integrate(math.sin, math.pi / 2, math.pi, n_iter=10**4)\n",
    "%timeit -n100 -r10 integrate(math.sin, math.pi / 2, math.pi, n_iter=10**5)\n",
    "%timeit -n100 -r10 integrate(math.sin, math.pi / 2, math.pi, n_iter=10**6)"
   ]
  },
  {
   "cell_type": "code",
   "execution_count": 17,
   "id": "e584d092",
   "metadata": {},
   "outputs": [],
   "source": [
    "import concurrent.futures as ftres\n",
    "\n",
    "def integrate_async(f, a: float, b: float, *, n_jobs: int = 2, n_iter: int = 1000):\n",
    "    executor = ftres.ThreadPoolExecutor(max_workers=n_jobs)\n",
    "    step = (b - a) / n_jobs\n",
    "\n",
    "    fs = [(a + i * step, a + (i + 1) * step) for i in range(n_jobs)]\n",
    "    spawn_lst = [executor.submit(integrate, f, *interval, n_iter= n_iter // n_jobs) for interval in fs]\n",
    "    s = [r.result() for r in ftres.as_completed(spawn_lst)]\n",
    "\n",
    "    return sum(s)"
   ]
  },
  {
   "cell_type": "code",
   "execution_count": 18,
   "id": "b4bc8d75",
   "metadata": {},
   "outputs": [
    {
     "name": "stdout",
     "output_type": "stream",
     "text": [
      "2.24 ms ± 65.2 µs per loop (mean ± std. dev. of 10 runs, 100 loops each)\n",
      "15.9 ms ± 419 µs per loop (mean ± std. dev. of 10 runs, 100 loops each)\n",
      "204 ms ± 4.88 ms per loop (mean ± std. dev. of 10 runs, 100 loops each)\n"
     ]
    }
   ],
   "source": [
    "# n_jobs = 2\n",
    "\n",
    "%timeit -n100 -r10 integrate_async(math.sin, math.pi / 2, math.pi, n_iter=10**4)\n",
    "%timeit -n100 -r10 integrate_async(math.sin, math.pi / 2, math.pi, n_iter=10**5)\n",
    "%timeit -n100 -r10 integrate_async(math.sin, math.pi / 2, math.pi, n_iter=10**6)"
   ]
  },
  {
   "cell_type": "code",
   "execution_count": 19,
   "id": "b0942744",
   "metadata": {},
   "outputs": [
    {
     "name": "stdout",
     "output_type": "stream",
     "text": [
      "2.75 ms ± 83.2 µs per loop (mean ± std. dev. of 10 runs, 100 loops each)\n",
      "17 ms ± 432 µs per loop (mean ± std. dev. of 10 runs, 100 loops each)\n",
      "228 ms ± 8.08 ms per loop (mean ± std. dev. of 10 runs, 100 loops each)\n"
     ]
    }
   ],
   "source": [
    "# n_jobs = 4\n",
    "\n",
    "%timeit -n100 -r10 integrate_async(math.sin, math.pi / 2, math.pi, n_jobs=4, n_iter=10**4)\n",
    "%timeit -n100 -r10 integrate_async(math.sin, math.pi / 2, math.pi, n_jobs=4, n_iter=10**5)\n",
    "%timeit -n100 -r10 integrate_async(math.sin, math.pi / 2, math.pi, n_jobs=4, n_iter=10**6)"
   ]
  },
  {
   "cell_type": "code",
   "execution_count": 20,
   "id": "deca4493",
   "metadata": {},
   "outputs": [
    {
     "name": "stdout",
     "output_type": "stream",
     "text": [
      "2.81 ms ± 98.7 µs per loop (mean ± std. dev. of 10 runs, 100 loops each)\n",
      "17.5 ms ± 128 µs per loop (mean ± std. dev. of 10 runs, 100 loops each)\n",
      "238 ms ± 3.7 ms per loop (mean ± std. dev. of 10 runs, 100 loops each)\n"
     ]
    }
   ],
   "source": [
    "# n_jobs = 6\n",
    "\n",
    "%timeit -n100 -r10 integrate_async(math.sin, math.pi / 2, math.pi, n_jobs=4, n_iter=10**4)\n",
    "%timeit -n100 -r10 integrate_async(math.sin, math.pi / 2, math.pi, n_jobs=4, n_iter=10**5)\n",
    "%timeit -n100 -r10 integrate_async(math.sin, math.pi / 2, math.pi, n_jobs=4, n_iter=10**6)"
   ]
  },
  {
   "cell_type": "markdown",
   "id": "45a56077",
   "metadata": {},
   "source": [
    "integrate (Cython, ЛР 3)"
   ]
  },
  {
   "cell_type": "code",
   "execution_count": 21,
   "id": "a977e3bb",
   "metadata": {},
   "outputs": [],
   "source": [
    "%load_ext Cython"
   ]
  },
  {
   "cell_type": "code",
   "execution_count": 22,
   "id": "9d2d291e",
   "metadata": {},
   "outputs": [],
   "source": [
    "%%cython\n",
    "\n",
    "from cython.parallel import prange\n",
    "\n",
    "from libc.math cimport sin\n",
    "\n",
    "\n",
    "ctypedef double (*func)(double x) nogil\n",
    "\n",
    "\n",
    "cdef double integrate(func f, float a, float b, int n_iter = 1000) nogil:\n",
    "    if b == a:\n",
    "        return 0\n",
    "\n",
    "    cdef double h = (b-a)/n_iter\n",
    "    cdef double z = 0\n",
    "    cdef double x = a + h\n",
    "\n",
    "    while x <= b - h:\n",
    "        z = z + f(x)\n",
    "        x = x + h\n",
    "    \n",
    "#     cdef int i\n",
    "#     for i in prange(n_iter):\n",
    "#         z = z + f(x + i*h)\n",
    "\n",
    "    cdef double y = (f(a)+ f(b)) /2\n",
    "    z = h*(z+y)\n",
    "\n",
    "    return z\n",
    "\n",
    "\n",
    "cpdef integrate_f(a, b, n_iter):\n",
    "    return integrate(sin, a, b, n_iter)\n"
   ]
  },
  {
   "cell_type": "code",
   "execution_count": 23,
   "id": "f7f32aea",
   "metadata": {},
   "outputs": [
    {
     "name": "stdout",
     "output_type": "stream",
     "text": [
      "137 µs ± 2.92 µs per loop (mean ± std. dev. of 10 runs, 100 loops each)\n",
      "1.32 ms ± 5.61 µs per loop (mean ± std. dev. of 10 runs, 100 loops each)\n",
      "13.2 ms ± 64.3 µs per loop (mean ± std. dev. of 10 runs, 100 loops each)\n"
     ]
    }
   ],
   "source": [
    "%timeit -n100 -r10 integrate_f(math.pi / 2, math.pi, n_iter=10**4)\n",
    "%timeit -n100 -r10 integrate_f(math.pi / 2, math.pi, n_iter=10**5)\n",
    "%timeit -n100 -r10 integrate_f(math.pi / 2, math.pi, n_iter=10**6)"
   ]
  },
  {
   "cell_type": "markdown",
   "id": "57755cc3",
   "metadata": {},
   "source": [
    "integrate_async (Joblib, ЛР 3)"
   ]
  },
  {
   "cell_type": "code",
   "execution_count": 24,
   "id": "1b41e511",
   "metadata": {},
   "outputs": [],
   "source": [
    "from joblib import Parallel, delayed\n",
    "\n",
    "def integrate(f, a: float, b: float, *, n_iter: int = 1000):\n",
    "    if b == a:\n",
    "        return 0\n",
    "\n",
    "    h = (b-a)/float(n_iter)\n",
    "    z = 0\n",
    "    x = a + h\n",
    "\n",
    "    while x <= b - h:\n",
    "        z = z + f(x)\n",
    "        x = x + h\n",
    "\n",
    "    y = (f(a)+ f(b)) /2\n",
    "    z = h*(z+y)\n",
    "\n",
    "    return round(z, 8)\n",
    "\n",
    "\n",
    "def integrate_async(f, a: float, b: float, *, n_jobs: int = 2, n_iter: int = 1000, backend='threading'):\n",
    "    step = (b - a) / n_jobs\n",
    "\n",
    "    with Parallel(n_jobs=n_jobs, backend=backend) as p:\n",
    "        fs = (delayed(integrate)(f, a + i * step, a + (i + 1) * step, n_iter=n_iter // n_jobs)\n",
    "              for i in range(n_jobs))\n",
    "        return sum(p(fs))\n"
   ]
  },
  {
   "cell_type": "markdown",
   "id": "6d0b17c8",
   "metadata": {},
   "source": [
    "Тесты с потоками (backend=threading)"
   ]
  },
  {
   "cell_type": "code",
   "execution_count": 25,
   "id": "2225adb3",
   "metadata": {},
   "outputs": [
    {
     "name": "stdout",
     "output_type": "stream",
     "text": [
      "4.05 ms ± 607 µs per loop (mean ± std. dev. of 10 runs, 100 loops each)\n",
      "20.4 ms ± 196 µs per loop (mean ± std. dev. of 10 runs, 100 loops each)\n",
      "238 ms ± 2.62 ms per loop (mean ± std. dev. of 10 runs, 100 loops each)\n"
     ]
    }
   ],
   "source": [
    "# n_jobs = 2\n",
    "\n",
    "%timeit -n100 -r10 integrate_async(math.sin, math.pi / 2, math.pi, n_iter=10**4)\n",
    "%timeit -n100 -r10 integrate_async(math.sin, math.pi / 2, math.pi, n_iter=10**5)\n",
    "%timeit -n100 -r10 integrate_async(math.sin, math.pi / 2, math.pi, n_iter=10**6)"
   ]
  },
  {
   "cell_type": "code",
   "execution_count": 26,
   "id": "f5d0d9cf",
   "metadata": {},
   "outputs": [
    {
     "name": "stdout",
     "output_type": "stream",
     "text": [
      "4.18 ms ± 672 µs per loop (mean ± std. dev. of 10 runs, 100 loops each)\n",
      "21.2 ms ± 187 µs per loop (mean ± std. dev. of 10 runs, 100 loops each)\n",
      "257 ms ± 2 ms per loop (mean ± std. dev. of 10 runs, 100 loops each)\n"
     ]
    }
   ],
   "source": [
    "# n_jobs = 4\n",
    "\n",
    "%timeit -n100 -r10 integrate_async(math.sin, math.pi / 2, math.pi, n_jobs=4, n_iter=10**4)\n",
    "%timeit -n100 -r10 integrate_async(math.sin, math.pi / 2, math.pi, n_jobs=4, n_iter=10**5)\n",
    "%timeit -n100 -r10 integrate_async(math.sin, math.pi / 2, math.pi, n_jobs=4, n_iter=10**6)"
   ]
  },
  {
   "cell_type": "code",
   "execution_count": 27,
   "id": "3f13c8d4",
   "metadata": {},
   "outputs": [
    {
     "name": "stdout",
     "output_type": "stream",
     "text": [
      "4.26 ms ± 267 µs per loop (mean ± std. dev. of 10 runs, 100 loops each)\n",
      "21.4 ms ± 314 µs per loop (mean ± std. dev. of 10 runs, 100 loops each)\n",
      "259 ms ± 1.09 ms per loop (mean ± std. dev. of 10 runs, 100 loops each)\n"
     ]
    }
   ],
   "source": [
    "# n_jobs = 6\n",
    "\n",
    "%timeit -n100 -r10 integrate_async(math.sin, math.pi / 2, math.pi, n_jobs=6, n_iter=10**4)\n",
    "%timeit -n100 -r10 integrate_async(math.sin, math.pi / 2, math.pi, n_jobs=6, n_iter=10**5)\n",
    "%timeit -n100 -r10 integrate_async(math.sin, math.pi / 2, math.pi, n_jobs=6, n_iter=10**6)"
   ]
  },
  {
   "cell_type": "markdown",
   "id": "1947d2cc",
   "metadata": {},
   "source": [
    "Тесты с процессами (backend=multiprocessing)"
   ]
  },
  {
   "cell_type": "code",
   "execution_count": 28,
   "id": "69806417",
   "metadata": {},
   "outputs": [
    {
     "name": "stdout",
     "output_type": "stream",
     "text": [
      "57.7 ms ± 1.17 ms per loop (mean ± std. dev. of 10 runs, 100 loops each)\n",
      "67.2 ms ± 1.89 ms per loop (mean ± std. dev. of 10 runs, 100 loops each)\n",
      "155 ms ± 4.49 ms per loop (mean ± std. dev. of 10 runs, 100 loops each)\n"
     ]
    }
   ],
   "source": [
    "# n_jobs = 2\n",
    "\n",
    "%timeit -n100 -r10 integrate_async(math.sin, math.pi / 2, math.pi, n_jobs=2, n_iter=10**4, backend='multiprocessing')\n",
    "%timeit -n100 -r10 integrate_async(math.sin, math.pi / 2, math.pi, n_jobs=2, n_iter=10**5, backend='multiprocessing')\n",
    "%timeit -n100 -r10 integrate_async(math.sin, math.pi / 2, math.pi, n_jobs=2, n_iter=10**6, backend='multiprocessing')"
   ]
  },
  {
   "cell_type": "code",
   "execution_count": 29,
   "id": "4aab9853",
   "metadata": {},
   "outputs": [
    {
     "name": "stdout",
     "output_type": "stream",
     "text": [
      "66.4 ms ± 774 µs per loop (mean ± std. dev. of 10 runs, 100 loops each)\n",
      "74.6 ms ± 4.33 ms per loop (mean ± std. dev. of 10 runs, 100 loops each)\n",
      "128 ms ± 5.28 ms per loop (mean ± std. dev. of 10 runs, 100 loops each)\n"
     ]
    }
   ],
   "source": [
    "# n_jobs = 4\n",
    "\n",
    "%timeit -n100 -r10 integrate_async(math.sin, math.pi / 2, math.pi, n_jobs=4, n_iter=10**4, backend='multiprocessing')\n",
    "%timeit -n100 -r10 integrate_async(math.sin, math.pi / 2, math.pi, n_jobs=4, n_iter=10**5, backend='multiprocessing')\n",
    "%timeit -n100 -r10 integrate_async(math.sin, math.pi / 2, math.pi, n_jobs=4, n_iter=10**6, backend='multiprocessing')"
   ]
  },
  {
   "cell_type": "code",
   "execution_count": 30,
   "id": "827c3a29",
   "metadata": {},
   "outputs": [
    {
     "name": "stdout",
     "output_type": "stream",
     "text": [
      "75 ms ± 2.05 ms per loop (mean ± std. dev. of 10 runs, 100 loops each)\n",
      "87.7 ms ± 3.96 ms per loop (mean ± std. dev. of 10 runs, 100 loops each)\n",
      "123 ms ± 1.1 ms per loop (mean ± std. dev. of 10 runs, 100 loops each)\n"
     ]
    }
   ],
   "source": [
    "# n_jobs = 6\n",
    "\n",
    "%timeit -n100 -r10 integrate_async(math.sin, math.pi / 2, math.pi, n_jobs=6, n_iter=10**4, backend='multiprocessing')\n",
    "%timeit -n100 -r10 integrate_async(math.sin, math.pi / 2, math.pi, n_jobs=6, n_iter=10**5, backend='multiprocessing')\n",
    "%timeit -n100 -r10 integrate_async(math.sin, math.pi / 2, math.pi, n_jobs=6, n_iter=10**6, backend='multiprocessing')"
   ]
  }
 ],
 "metadata": {
  "kernelspec": {
   "display_name": "Python 3 (ipykernel)",
   "language": "python",
   "name": "python3"
  },
  "language_info": {
   "codemirror_mode": {
    "name": "ipython",
    "version": 3
   },
   "file_extension": ".py",
   "mimetype": "text/x-python",
   "name": "python",
   "nbconvert_exporter": "python",
   "pygments_lexer": "ipython3",
   "version": "3.9.2"
  }
 },
 "nbformat": 4,
 "nbformat_minor": 5
}
