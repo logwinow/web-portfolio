{
 "cells": [
  {
   "cell_type": "markdown",
   "id": "5375372a",
   "metadata": {},
   "source": [
    "# Cython"
   ]
  },
  {
   "cell_type": "code",
   "execution_count": 2,
   "id": "811162c2",
   "metadata": {},
   "outputs": [],
   "source": [
    "%load_ext Cython"
   ]
  },
  {
   "cell_type": "code",
   "execution_count": 16,
   "id": "b42d77d8",
   "metadata": {},
   "outputs": [],
   "source": [
    "%%cython\n",
    "\n",
    "from cython.parallel import prange # параллельный range\n",
    "\n",
    "from libc.math cimport sin # С-функция\n",
    "\n",
    "\n",
    "ctypedef double (*func)(double x) nogil # объявление типа функции, передеваемой в integrate\n",
    "# func - любая функция, принимающая аргумент x (double) и возвращающая double (число двойной точности с плавающей запятой)\n",
    "# GIL выключен, т.к. из nogil функции (integrate) нельзя вызвать функцию с GIL\n",
    "\n",
    "\n",
    "# Cython-функция, GIL выключен, т.е. вычисление осуществляется на самом деле параллельно\n",
    "# все переменные имеют тип double (с float получается неточный ответ)\n",
    "# f не может быть Python-функцией (т.к. её нельзя вызвать из Cython-функции без GIL и при этом она возвращает значение типа Python, а не Cython)\n",
    "cdef double integrate(func f, float a, float b, int n_iter = 1000) nogil:\n",
    "    if b == a:\n",
    "        return 0\n",
    "\n",
    "    cdef double h = (b-a)/n_iter\n",
    "    cdef double z = 0\n",
    "    cdef double x = a + h\n",
    "\n",
    "    # исходный вариант (однопоточный)\n",
    "    # while x <= b - h:\n",
    "    #     z = z + f(x)\n",
    "    #     x = x + h\n",
    "    \n",
    "    # вариант с параллельным range\n",
    "    cdef int i\n",
    "    for i in prange(n_iter):\n",
    "        z += + f(x + i*h) # к начальному значению x прибавляется смещение по h\n",
    "\n",
    "    cdef double y = (f(a)+ f(b)) /2\n",
    "    z = h*(z+y)\n",
    "\n",
    "    return z\n",
    "\n",
    "\n",
    "# для timeit\n",
    "# из другой ячейки (и вообще из Python-функции - def) нельзя вызвать Cython-функцию (cdef)\n",
    "# cpdef можно вызвать как из Python, так и из Cython-функций\n",
    "# аргумента f нет, т.к. его нельзя передать из Python (нужна Cython-функция)\n",
    "# функция объявлена в этой же ячейке из-за области видимости (Cython-функцию можно вызывать только в той же ячейке)\n",
    "cpdef integrate_f(a, b, n_iter):\n",
    "    return integrate(sin, a, b, n_iter)\n"
   ]
  },
  {
   "cell_type": "code",
   "execution_count": 9,
   "id": "ecb86b06",
   "metadata": {},
   "outputs": [
    {
     "data": {
      "text/plain": [
       "1.341446850875759"
      ]
     },
     "execution_count": 9,
     "metadata": {},
     "output_type": "execute_result"
    }
   ],
   "source": [
    "integrate_f(1, 2.5, n_iter=10**6)"
   ]
  },
  {
   "cell_type": "markdown",
   "id": "39842e8e",
   "metadata": {},
   "source": [
    "# Joblib"
   ]
  },
  {
   "cell_type": "code",
   "execution_count": 19,
   "id": "1e8ef237",
   "metadata": {},
   "outputs": [],
   "source": [
    "def integrate(f, a: float, b: float, *, n_iter: int = 1000):\n",
    "    if b == a:\n",
    "        return 0\n",
    "\n",
    "    h = (b-a)/float(n_iter)\n",
    "    z = 0\n",
    "    x = a + h\n",
    "\n",
    "    while x <= b - h:\n",
    "        z = z + f(x)\n",
    "        x = x + h\n",
    "\n",
    "    y = (f(a)+ f(b)) /2\n",
    "    z = h*(z+y)\n",
    "\n",
    "    return round(z, 8)\n"
   ]
  },
  {
   "cell_type": "code",
   "execution_count": 20,
   "id": "ceabe3cd",
   "metadata": {},
   "outputs": [],
   "source": [
    "from joblib import Parallel, delayed\n",
    "\n",
    "def integrate_async(f, a: float, b: float, *, n_jobs: int = 2, n_iter: int = 1000, backend='threading'):\n",
    "    step = (b - a) / n_jobs # интервал делится на части, кол-во частей равно числу потоков\n",
    "    # каждый поток вычисляет значение интеграла на части интервала от a до b\n",
    "\n",
    "    with Parallel(n_jobs=n_jobs, backend=backend) as p:\n",
    "        # каждый поток вычисляет значение интеграла на части интервала от a до b\n",
    "        fs = (delayed(integrate)(f, a + i * step, a + (i + 1) * step, n_iter=n_iter // n_jobs)\n",
    "              for i in range(n_jobs))\n",
    "        return sum(p(fs)) # значение интеграла равно сумме значений, вычисленных для каждой части в потоках"
   ]
  },
  {
   "cell_type": "code",
   "execution_count": 21,
   "id": "f79b37ad",
   "metadata": {},
   "outputs": [
    {
     "data": {
      "text/plain": [
       "1.34144502"
      ]
     },
     "execution_count": 21,
     "metadata": {},
     "output_type": "execute_result"
    }
   ],
   "source": [
    "import math\n",
    "integrate_async(math.sin, 1, 2.5, n_iter=10**6)"
   ]
  }
 ],
 "metadata": {
  "kernelspec": {
   "display_name": "Python 3 (ipykernel)",
   "language": "python",
   "name": "python3"
  },
  "language_info": {
   "codemirror_mode": {
    "name": "ipython",
    "version": 3
   },
   "file_extension": ".py",
   "mimetype": "text/x-python",
   "name": "python",
   "nbconvert_exporter": "python",
   "pygments_lexer": "ipython3",
   "version": "3.9.2"
  }
 },
 "nbformat": 4,
 "nbformat_minor": 5
}
